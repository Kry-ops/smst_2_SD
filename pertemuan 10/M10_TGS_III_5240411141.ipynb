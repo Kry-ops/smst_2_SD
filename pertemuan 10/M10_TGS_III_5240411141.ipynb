{
  "nbformat": 4,
  "nbformat_minor": 0,
  "metadata": {
    "colab": {
      "provenance": []
    },
    "kernelspec": {
      "name": "python3",
      "display_name": "Python 3"
    },
    "language_info": {
      "name": "python"
    }
  },
  "cells": [
    {
      "cell_type": "code",
      "execution_count": 1,
      "metadata": {
        "colab": {
          "base_uri": "https://localhost:8080/"
        },
        "id": "2LHjTvelrrwH",
        "outputId": "eb8cc327-4350-4d7b-d7a7-7d10e65701d7"
      },
      "outputs": [
        {
          "output_type": "stream",
          "name": "stdout",
          "text": [
            "Masukan vertex yang ingin dicari: A\n",
            "True, Vortex A ada di dalam graph\n",
            "Vertex yang terhubung dengan A : ['B', 'C', 'D']\n"
          ]
        }
      ],
      "source": [
        "class Graph:\n",
        "    def __init__(self):\n",
        "        self.adj_list = {}\n",
        "\n",
        "    def print_graph(self):\n",
        "        for vertex in self.adj_list:\n",
        "            print(vertex, ':', self.adj_list[vertex])\n",
        "\n",
        "    def add_vertex(self, vertex):\n",
        "        if vertex not in self.adj_list.keys():\n",
        "            self.adj_list[vertex] = []\n",
        "            return True\n",
        "        return False\n",
        "\n",
        "    def add_edge(self, v1, v2):\n",
        "        if v1 in self.adj_list.keys() and v2 in self.adj_list.keys():\n",
        "            self.adj_list[v1].append(v2)\n",
        "            self.adj_list[v2].append(v1)\n",
        "            return True\n",
        "        return False\n",
        "\n",
        "    def remove_edge(self, v1, v2):\n",
        "        if v1 in self.adj_list.keys() and v2 in self.adj_list.keys():\n",
        "            try:\n",
        "                self.adj_list[v1].remove(v2)\n",
        "                self.adj_list[v2].remove(v1)\n",
        "            except ValueError:\n",
        "                pass\n",
        "            return True\n",
        "        return False\n",
        "\n",
        "    def remove_vertex(self, vertex):\n",
        "        if vertex in self.adj_list.keys():\n",
        "            for other_vertex in self.adj_list[vertex]:\n",
        "                self.adj_list[other_vertex].remove(vertex)\n",
        "            del self.adj_list[vertex]\n",
        "            return True\n",
        "        return False\n",
        "\n",
        "    def is_in_graph(self, vertex):\n",
        "        return vertex in self.adj_list\n",
        "\n",
        "    def print_all_connected(self, vertex):\n",
        "        if vertex in self.adj_list:\n",
        "            print(\"Vertex yang terhubung dengan\", vertex, \":\", self.adj_list[vertex])\n",
        "        else:\n",
        "            print(\"Vertex tidak ditemukan dalam graph.\")\n",
        "\n",
        "my_graph = Graph()\n",
        "my_graph.add_vertex('A')\n",
        "my_graph.add_vertex('B')\n",
        "my_graph.add_vertex('C')\n",
        "my_graph.add_vertex('D')\n",
        "my_graph.add_edge('A', 'B')\n",
        "my_graph.add_edge('A', 'C')\n",
        "my_graph.add_edge('A', 'D')\n",
        "my_graph.add_edge('B', 'D')\n",
        "my_graph.add_edge('C', 'D')\n",
        "\n",
        "\n",
        "inputan_user = str(input('Masukan vertex yang ingin dicari: '))\n",
        "\n",
        "print(f'{my_graph.is_in_graph(inputan_user)}, Vortex {inputan_user} ada di dalam graph')\n",
        "\n",
        "my_graph.print_all_connected(inputan_user)"
      ]
    }
  ]
}