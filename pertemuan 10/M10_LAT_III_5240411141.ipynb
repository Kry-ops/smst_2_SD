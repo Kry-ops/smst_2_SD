{
  "nbformat": 4,
  "nbformat_minor": 0,
  "metadata": {
    "colab": {
      "provenance": []
    },
    "kernelspec": {
      "name": "python3",
      "display_name": "Python 3"
    },
    "language_info": {
      "name": "python"
    }
  },
  "cells": [
    {
      "cell_type": "code",
      "execution_count": 1,
      "metadata": {
        "colab": {
          "base_uri": "https://localhost:8080/"
        },
        "id": "huhKPnaeEvfH",
        "outputId": "eeed87ee-014a-4a12-8089-012756cee2cc"
      },
      "outputs": [
        {
          "output_type": "stream",
          "name": "stdout",
          "text": [
            "52 : ['18', '27']\n",
            "18 : ['52', '44', '21']\n",
            "21 : ['18', '44', '76']\n",
            "44 : ['18', '21', '76']\n",
            "76 : ['21', '44']\n",
            "27 : ['52', '82']\n",
            "82 : ['27']\n"
          ]
        }
      ],
      "source": [
        "class Graph:\n",
        "    def __init__(self):\n",
        "        self.adj_list = {}\n",
        "\n",
        "    def print_graph(self):\n",
        "        for vortex in self.adj_list:\n",
        "            print(vortex, ':', self.adj_list[vortex])\n",
        "\n",
        "    def add_vertex(self, vertex):\n",
        "        if vertex not in self.adj_list:\n",
        "            self.adj_list[vertex] = []\n",
        "            return True\n",
        "        return False\n",
        "\n",
        "    def add_edge(self, v1, v2):\n",
        "        if v1 in self.adj_list and v2 in self.adj_list:\n",
        "            self.adj_list[v1].append(v2)\n",
        "            self.adj_list[v2].append(v1)\n",
        "            return True\n",
        "        return False\n",
        "\n",
        "\n",
        "my_graph = Graph()\n",
        "\n",
        "my_graph.add_vertex('52')\n",
        "my_graph.add_vertex('18')\n",
        "my_graph.add_vertex('21')\n",
        "my_graph.add_vertex('44')\n",
        "my_graph.add_vertex('76')\n",
        "my_graph.add_vertex('27')\n",
        "my_graph.add_vertex('82')\n",
        "\n",
        "my_graph.add_edge('52', '18')\n",
        "my_graph.add_edge('52', '27')\n",
        "my_graph.add_edge('18', '44')\n",
        "my_graph.add_edge('18', '21')\n",
        "my_graph.add_edge('21', '44')\n",
        "my_graph.add_edge('21', '76')\n",
        "my_graph.add_edge('44', '76')\n",
        "my_graph.add_edge('27', '82')\n",
        "\n",
        "my_graph.print_graph()\n"
      ]
    }
  ]
}