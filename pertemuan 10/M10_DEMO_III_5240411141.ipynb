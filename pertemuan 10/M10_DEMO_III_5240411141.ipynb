{
  "nbformat": 4,
  "nbformat_minor": 0,
  "metadata": {
    "colab": {
      "provenance": []
    },
    "kernelspec": {
      "name": "python3",
      "display_name": "Python 3"
    },
    "language_info": {
      "name": "python"
    }
  },
  "cells": [
    {
      "cell_type": "code",
      "execution_count": 1,
      "metadata": {
        "colab": {
          "base_uri": "https://localhost:8080/",
          "height": 104
        },
        "id": "cOjhnpPoAI0G",
        "outputId": "ccdab394-50e1-4528-d36b-74eb7fed75a1"
      },
      "outputs": [
        {
          "output_type": "execute_result",
          "data": {
            "text/plain": [
              "<bound method Graph.print_graph of <__main__.Graph object at 0x7e4f1178bf10>>"
            ],
            "text/html": [
              "<div style=\"max-width:800px; border: 1px solid var(--colab-border-color);\"><style>\n",
              "      pre.function-repr-contents {\n",
              "        overflow-x: auto;\n",
              "        padding: 8px 12px;\n",
              "        max-height: 500px;\n",
              "      }\n",
              "\n",
              "      pre.function-repr-contents.function-repr-contents-collapsed {\n",
              "        cursor: pointer;\n",
              "        max-height: 100px;\n",
              "      }\n",
              "    </style>\n",
              "    <pre style=\"white-space: initial; background:\n",
              "         var(--colab-secondary-surface-color); padding: 8px 12px;\n",
              "         border-bottom: 1px solid var(--colab-border-color);\"><b>Graph.print_graph</b><br/>def print_graph()</pre><pre class=\"function-repr-contents function-repr-contents-collapsed\" style=\"\"><a class=\"filepath\" style=\"display:none\" href=\"#\">/content/&lt;ipython-input-1-9e940c4bbf81&gt;</a>&lt;no docstring&gt;</pre></div>"
            ]
          },
          "metadata": {},
          "execution_count": 1
        }
      ],
      "source": [
        "class Graph:\n",
        "    def __init__(self):\n",
        "        self.adj_list = {}\n",
        "\n",
        "    def print_graph(self):\n",
        "        for vortex in self.adj_list:\n",
        "            print(vortex, ':', self.adj_list[vortex])\n",
        "\n",
        "my_graph = Graph()\n",
        "my_graph.print_graph"
      ]
    },
    {
      "cell_type": "code",
      "source": [
        "class Graph:\n",
        "    def __init__(self):\n",
        "        self.adj_list = {}\n",
        "\n",
        "    def print_graph(self):\n",
        "        for vortex in self.adj_list:\n",
        "            print(vortex, ':', self.adj_list[vortex])\n",
        "    def add_vertex(self, vertex):\n",
        "        if vertex not in self.adj_list.keys():\n",
        "            self.adj_list[vertex] = []\n",
        "            return True\n",
        "        return False\n",
        "\n",
        "my_graph = Graph()\n",
        "my_graph.add_vertex('A')\n",
        "my_graph.print_graph()"
      ],
      "metadata": {
        "colab": {
          "base_uri": "https://localhost:8080/"
        },
        "id": "UKlNInERARnk",
        "outputId": "5747b524-d09b-4ed0-fb2d-87d397fbcde9"
      },
      "execution_count": 2,
      "outputs": [
        {
          "output_type": "stream",
          "name": "stdout",
          "text": [
            "A : []\n"
          ]
        }
      ]
    },
    {
      "cell_type": "code",
      "source": [
        "class Graph:\n",
        "    def __init__(self):\n",
        "        self.adj_list = {}\n",
        "\n",
        "    def print_graph(self):\n",
        "        for vortex in self.adj_list:\n",
        "            print(vortex, ':', self.adj_list[vortex])\n",
        "    def add_vertex(self, vertex):\n",
        "        if vertex not in self.adj_list.keys():\n",
        "            self.adj_list[vertex] = []\n",
        "            return True\n",
        "        return False\n",
        "    def add_edge(self, v1, v2):\n",
        "        if v1 in self.adj_list.keys() and v2 in self.adj_list.keys():\n",
        "            self.adj_list[v1].append(v2)\n",
        "            self.adj_list[v2].append(v1)\n",
        "            return True\n",
        "        return False\n",
        "\n",
        "my_graph = Graph()\n",
        "my_graph.add_vertex('1')\n",
        "my_graph.add_vertex('2')\n",
        "my_graph.add_edge('1', '2')\n",
        "my_graph.print_graph()"
      ],
      "metadata": {
        "colab": {
          "base_uri": "https://localhost:8080/"
        },
        "id": "AyV7KYF3Aakv",
        "outputId": "6f5c3ef2-50a1-4e34-dfb0-153a467dc631"
      },
      "execution_count": 3,
      "outputs": [
        {
          "output_type": "stream",
          "name": "stdout",
          "text": [
            "1 : ['2']\n",
            "2 : ['1']\n"
          ]
        }
      ]
    },
    {
      "cell_type": "code",
      "source": [
        "class Graph:\n",
        "    def __init__(self):\n",
        "        self.adj_list = {}\n",
        "\n",
        "    def print_graph(self):\n",
        "        for vortex in self.adj_list:\n",
        "            print(vortex, ':', self.adj_list[vortex])\n",
        "    def add_vertex(self, vertex):\n",
        "        if vertex not in self.adj_list.keys():\n",
        "            self.adj_list[vertex] = []\n",
        "            return True\n",
        "        return False\n",
        "    def add_edge(self, v1, v2):\n",
        "        if v1 in self.adj_list.keys() and v2 in self.adj_list.keys():\n",
        "            self.adj_list[v1].append(v2)\n",
        "            self.adj_list[v2].append(v1)\n",
        "            return True\n",
        "        return False\n",
        "    def remove_edge(self, v1, v2):\n",
        "        if v1 in self.adj_list.keys() and v2 in self.adj_list.keys():\n",
        "            try:\n",
        "                self.adj_list[v1].remove(v2)\n",
        "                self.adj_list[v2].remove(v1)\n",
        "            except ValueError:\n",
        "                pass\n",
        "            return True\n",
        "        return False\n",
        "\n",
        "my_graph = Graph()\n",
        "my_graph.add_vertex('A')\n",
        "my_graph.add_vertex('B')\n",
        "my_graph.add_vertex('C')\n",
        "my_graph.add_edge('A', 'B')\n",
        "my_graph.add_edge('B', 'C')\n",
        "my_graph.add_edge('C', 'A')\n",
        "\n",
        "print('Graph before remove_edge():')\n",
        "my_graph.print_graph()\n",
        "\n",
        "my_graph.remove_edge('A','C')\n",
        "\n",
        "print('\\nGraph after remove_edge():')\n",
        "my_graph.print_graph()"
      ],
      "metadata": {
        "colab": {
          "base_uri": "https://localhost:8080/"
        },
        "id": "M-GH1lJeAcgn",
        "outputId": "0886f3d6-4e4f-4140-e861-adcba235fe6a"
      },
      "execution_count": 4,
      "outputs": [
        {
          "output_type": "stream",
          "name": "stdout",
          "text": [
            "Graph before remove_edge():\n",
            "A : ['B', 'C']\n",
            "B : ['A', 'C']\n",
            "C : ['B', 'A']\n",
            "\n",
            "Graph after remove_edge():\n",
            "A : ['B']\n",
            "B : ['A', 'C']\n",
            "C : ['B']\n"
          ]
        }
      ]
    },
    {
      "cell_type": "code",
      "source": [
        "class Graph:\n",
        "    def __init__(self):\n",
        "        self.adj_list = {}\n",
        "\n",
        "    def print_graph(self):\n",
        "        for vortex in self.adj_list:\n",
        "            print(vortex, ':', self.adj_list[vortex])\n",
        "    def add_vertex(self, vertex):\n",
        "        if vertex not in self.adj_list.keys():\n",
        "            self.adj_list[vertex] = []\n",
        "            return True\n",
        "        return False\n",
        "    def add_edge(self, v1, v2):\n",
        "        if v1 in self.adj_list.keys() and v2 in self.adj_list.keys():\n",
        "            self.adj_list[v1].append(v2)\n",
        "            self.adj_list[v2].append(v1)\n",
        "            return True\n",
        "        return False\n",
        "    def remove_edge(self, v1, v2):\n",
        "        if v1 in self.adj_list.keys() and v2 in self.adj_list.keys():\n",
        "            try:\n",
        "                self.adj_list[v1].remove(v2)\n",
        "                self.adj_list[v2].remove(v1)\n",
        "            except ValueError:\n",
        "                pass\n",
        "            return True\n",
        "        return False\n",
        "    def remove_vertex(self, vertex):\n",
        "        if vertex in self.adj_list.keys():\n",
        "            for other_vertex in self.adj_list[vertex]:\n",
        "                self.adj_list[other_vertex].remove(vertex)\n",
        "            del self.adj_list[vertex]\n",
        "        return False\n",
        "\n",
        "my_graph = Graph()\n",
        "my_graph.add_vertex('A')\n",
        "my_graph.add_vertex('B')\n",
        "my_graph.add_vertex('C')\n",
        "my_graph.add_vertex('D')\n",
        "my_graph.add_edge('A', 'B')\n",
        "my_graph.add_edge('A', 'C')\n",
        "my_graph.add_edge('A', 'D')\n",
        "my_graph.add_edge('B', 'D')\n",
        "my_graph.add_edge('C', 'D')\n",
        "\n",
        "print('Graph bevore remove_vertex():')\n",
        "my_graph.print_graph()\n",
        "\n",
        "my_graph.remove_vertex('D')\n",
        "\n",
        "print('\\nGraph nach remove_vertex():')\n",
        "my_graph.print_graph()"
      ],
      "metadata": {
        "colab": {
          "base_uri": "https://localhost:8080/"
        },
        "id": "RBOLoeYyAkhI",
        "outputId": "2ae46edd-df3b-4b5f-a1cc-d46307816a84"
      },
      "execution_count": 5,
      "outputs": [
        {
          "output_type": "stream",
          "name": "stdout",
          "text": [
            "Graph bevore remove_vertex():\n",
            "A : ['B', 'C', 'D']\n",
            "B : ['A', 'D']\n",
            "C : ['A', 'D']\n",
            "D : ['A', 'B', 'C']\n",
            "\n",
            "Graph nach remove_vertex():\n",
            "A : ['B', 'C']\n",
            "B : ['A']\n",
            "C : ['A']\n"
          ]
        }
      ]
    }
  ]
}