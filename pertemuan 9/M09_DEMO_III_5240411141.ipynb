{
  "nbformat": 4,
  "nbformat_minor": 0,
  "metadata": {
    "colab": {
      "provenance": []
    },
    "kernelspec": {
      "name": "python3",
      "display_name": "Python 3"
    },
    "language_info": {
      "name": "python"
    }
  },
  "cells": [
    {
      "cell_type": "code",
      "execution_count": 1,
      "metadata": {
        "colab": {
          "base_uri": "https://localhost:8080/"
        },
        "id": "mShAWglGHKuJ",
        "outputId": "f62c7478-3d4b-4d88-b0bb-c524117d3fa5"
      },
      "outputs": [
        {
          "output_type": "stream",
          "name": "stdout",
          "text": [
            "Minimum value in treee: \n",
            "18\n"
          ]
        }
      ],
      "source": [
        "class Node:\n",
        "    def __init__(self, value):\n",
        "        self.value = value\n",
        "        self.left = None\n",
        "        self.right = None\n",
        "\n",
        "class BinarySearchTree:\n",
        "    def __init__(self):\n",
        "        self.root = None\n",
        "\n",
        "    def insert(self, value):\n",
        "        new_node = Node(value)\n",
        "        if self.root is None:\n",
        "            self.root = new_node\n",
        "            return True\n",
        "        temp = self.root\n",
        "        while (True):\n",
        "            if new_node.value == temp.value:\n",
        "                return False\n",
        "            if new_node.value < temp.value:\n",
        "                if temp.left is None:\n",
        "                    temp.left = new_node\n",
        "                    return True\n",
        "                temp = temp.left\n",
        "            else:\n",
        "                if temp.right is None:\n",
        "                    temp.right = new_node\n",
        "                    return True\n",
        "                temp = temp.right\n",
        "\n",
        "    def contains(self, value):\n",
        "        temp = self.root\n",
        "        while temp is not None:\n",
        "            if value < temp.value:\n",
        "                temp = temp.left\n",
        "            elif value > temp.value:\n",
        "                temp = temp.right\n",
        "            else:\n",
        "                return True\n",
        "            return False\n",
        "\n",
        "    def min_value_node(self, current_node):\n",
        "        while current_node.left is not None:\n",
        "            current_node = current_node.left\n",
        "        return current_node\n",
        "\n",
        "my_tree = BinarySearchTree()\n",
        "my_tree.insert(47)\n",
        "my_tree.insert(21)\n",
        "my_tree.insert(76)\n",
        "my_tree.insert(18)\n",
        "my_tree.insert(27)\n",
        "my_tree.insert(52)\n",
        "my_tree.insert(82)\n",
        "\n",
        "print('Minimum value in treee: ')\n",
        "print(my_tree.min_value_node(my_tree.root).value)\n",
        ""
      ]
    }
  ]
}