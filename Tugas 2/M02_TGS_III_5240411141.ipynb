{
 "cells": [
  {
   "cell_type": "code",
   "execution_count": null,
   "metadata": {},
   "outputs": [],
   "source": [
    "def hitung_simulasi_kredit(harga_barang, uang_muka, bunga_tahunan, tahun_kredit): \n",
    "\n",
    "    jumlah_pinjaman =  harga_barang-uang_muka \n",
    "\n",
    "    bunga_bulanan = (bunga_tahunan / 100) /12 \n",
    "\n",
    "    jumlah_cicilan_bulanan = jumlah_pinjaman*(bunga_bulanan / (1 - (1 + bunga_bulanan)**(-tahun_kredit*12))) \n",
    "\n",
    "    total_pembayaran = jumlah_cicilan_bulanan * tahun_kredit * 12 \n",
    "\n",
    "    return total_pembayaran, jumlah_cicilan_bulanan\n",
    "\n",
    "harga_iphone = 32999000 \n",
    "uang_muka = 5000000 \n",
    "bunga_tahunan = 4+1 #no 2\n",
    "tahun_kredit = 2 #no 1\n",
    "total_pembayaran, jumlah_cicilan_bulanan = hitung_simulasi_kredit(harga_iphone, uang_muka, bunga_tahunan, tahun_kredit) \n",
    "print(f\"Total yang harus dibayar: Rp {round(total_pembayaran):,}\") #no 4\n",
    "print(f\"Cicilan bulanan yang harus dibayar selama {tahun_kredit} tahun dengan suku bunga {bunga_tahunan}% : Rp {round(jumlah_cicilan_bulanan):,}\") #no 3 dan no 4\n"
   ]
  }
 ],
 "metadata": {
  "language_info": {
   "name": "python"
  }
 },
 "nbformat": 4,
 "nbformat_minor": 2
}
