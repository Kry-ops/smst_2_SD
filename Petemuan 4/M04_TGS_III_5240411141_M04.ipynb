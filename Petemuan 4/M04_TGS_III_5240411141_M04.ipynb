{
  "nbformat": 4,
  "nbformat_minor": 0,
  "metadata": {
    "colab": {
      "provenance": []
    },
    "kernelspec": {
      "name": "python3",
      "display_name": "Python 3"
    },
    "language_info": {
      "name": "python"
    }
  },
  "cells": [
    {
      "cell_type": "code",
      "execution_count": 3,
      "metadata": {
        "colab": {
          "base_uri": "https://localhost:8080/"
        },
        "id": "C8ER2tASEBZb",
        "outputId": "743e2828-33a7-4ba5-8787-26f1f47cb1d6"
      },
      "outputs": [
        {
          "output_type": "stream",
          "name": "stdout",
          "text": [
            "=============================================\n",
            " Nomor Punggung   Nama                  Umur  \n",
            "=============================================\n",
            " 2                William Saliba        23    \n",
            " 3                Kieran Tierney        27    \n",
            " 4                Ben White             27    \n",
            " 6                Gabriel Magalhães     27    \n",
            " 7                Bukayo Saka           23    \n",
            " 8                Martin Ødegaard       26    \n",
            " 11               Gabriel Martinelli    23    \n",
            " 19               Leandro Trossard      29    \n",
            " 22               David Raya            29    \n",
            " 29               Kai Havertz           25    \n",
            " 41               Declan Rice           26    \n",
            "=============================================\n"
          ]
        }
      ],
      "source": [
        "# ARSENAL\n",
        "pemain = {\n",
        "    2: (\"William Saliba\", 23),\n",
        "    3: (\"Kieran Tierney\", 27),\n",
        "    4: (\"Ben White\", 27),\n",
        "    6: (\"Gabriel Magalhães\", 27),\n",
        "    7: (\"Bukayo Saka\", 23),\n",
        "    8: (\"Martin Ødegaard\", 26),\n",
        "    11: (\"Gabriel Martinelli\", 23),\n",
        "    19: (\"Leandro Trossard\", 29),\n",
        "    22: (\"David Raya\", 29),\n",
        "    29: (\"Kai Havertz\", 25),\n",
        "    41: (\"Declan Rice\", 26),\n",
        "}\n",
        "\n",
        "\n",
        "print(\"=\" * 45)\n",
        "print(f\" {'Nomor Punggung':<12}   {'Nama':<20}  {'Umur':<5} \")\n",
        "print(\"=\" * 45)\n",
        "\n",
        "\n",
        "for nomor, (nama, umur) in pemain.items():\n",
        "    print(f\" {nomor:<12}     {nama:<20}  {umur:<5} \")"
      ]
    }
  ]
}