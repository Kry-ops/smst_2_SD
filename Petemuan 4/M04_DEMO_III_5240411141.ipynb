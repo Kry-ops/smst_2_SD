{
  "nbformat": 4,
  "nbformat_minor": 0,
  "metadata": {
    "colab": {
      "provenance": []
    },
    "kernelspec": {
      "name": "python3",
      "display_name": "Python 3"
    },
    "language_info": {
      "name": "python"
    }
  },
  "cells": [
    {
      "cell_type": "code",
      "execution_count": 4,
      "metadata": {
        "colab": {
          "base_uri": "https://localhost:8080/"
        },
        "id": "XvzyJe83XRIP",
        "outputId": "42ac8a31-f0d7-4c51-856e-a17a6c389450"
      },
      "outputs": [
        {
          "output_type": "stream",
          "name": "stdout",
          "text": [
            "1\n",
            "2\n",
            "3\n",
            "<built-in method index of list object at 0x7ce444310840>\n"
          ]
        }
      ],
      "source": [
        "my_list = [1, 2, 3]\n",
        "print(my_list[0])\n",
        "print(my_list[1])\n",
        "print(my_list[2])\n",
        "print(my_list.index)\n"
      ]
    },
    {
      "cell_type": "code",
      "source": [
        "my_set = {1, 2, 3}\n",
        "print(my_set)\n",
        "\n",
        "my_set = {1.0, \"Hello\", (1, 2, 3)}\n",
        "print(my_set)\n",
        "\n",
        "book_set = set((\"Harry Potter\", \"Angel and Demons\", \"Atlas Shrugged\"))\n",
        "print(book_set)"
      ],
      "metadata": {
        "colab": {
          "base_uri": "https://localhost:8080/"
        },
        "id": "dzJSmlUIZoi1",
        "outputId": "89b3c664-9fa8-4152-a218-3290aff36d91"
      },
      "execution_count": 2,
      "outputs": [
        {
          "output_type": "stream",
          "name": "stdout",
          "text": [
            "{1, 2, 3}\n",
            "{'Hello', 1.0, (1, 2, 3)}\n",
            "{'Angel and Demons', 'Harry Potter', 'Atlas Shrugged'}\n"
          ]
        }
      ]
    }
  ]
}