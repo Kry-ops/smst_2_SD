{
  "nbformat": 4,
  "nbformat_minor": 0,
  "metadata": {
    "colab": {
      "provenance": []
    },
    "kernelspec": {
      "name": "python3",
      "display_name": "Python 3"
    },
    "language_info": {
      "name": "python"
    }
  },
  "cells": [
    {
      "cell_type": "code",
      "execution_count": 2,
      "metadata": {
        "colab": {
          "base_uri": "https://localhost:8080/"
        },
        "id": "hmkIiuXRnVp5",
        "outputId": "683331ed-5109-4a09-f125-91364ba765f7"
      },
      "outputs": [
        {
          "name": "stdout",
          "output_type": "stream",
          "text": [
            "Silahkan memilih menu (Menambah barang)=(1), (Melihat barang)=(2),  (Menghapus barang)=(3), (Keluar)=(4) : 1\n",
            "Silahkan menambah barang : susu\n",
            "Berhasil menambahkan barang = ['susu']\n",
            "Silahkan memilih menu (Menambah barang)=(1), (Melihat barang)=(2),  (Menghapus barang)=(3), (Keluar)=(4) : 2\n",
            "Daftar barang = ['susu']\n",
            "Silahkan memilih menu (Menambah barang)=(1), (Melihat barang)=(2),  (Menghapus barang)=(3), (Keluar)=(4) : 1\n",
            "Silahkan menambah barang : bom\n",
            "Berhasil menambahkan barang = ['susu', 'bom']\n",
            "Silahkan memilih menu (Menambah barang)=(1), (Melihat barang)=(2),  (Menghapus barang)=(3), (Keluar)=(4) : 1\n",
            "Silahkan menambah barang : buah\n",
            "Berhasil menambahkan barang = ['susu', 'bom', 'buah']\n",
            "Silahkan memilih menu (Menambah barang)=(1), (Melihat barang)=(2),  (Menghapus barang)=(3), (Keluar)=(4) : 2\n",
            "Daftar barang = ['susu', 'bom', 'buah']\n",
            "Silahkan memilih menu (Menambah barang)=(1), (Melihat barang)=(2),  (Menghapus barang)=(3), (Keluar)=(4) : 3\n",
            "Daftar barang = ['susu', 'bom', 'buah']\n",
            "Masukan index barang yang mau dihapus (dimulai dari index[0]) : 2\n",
            "Barang berhasil dihapus = ['susu', 'bom']\n",
            "Silahkan memilih menu (Menambah barang)=(1), (Melihat barang)=(2),  (Menghapus barang)=(3), (Keluar)=(4) : 4\n"
          ]
        }
      ],
      "source": [
        "\n",
        "# def keranjang():\n",
        "\n",
        "\n",
        "Keranjang = []\n",
        "\n",
        "def aplikasi_sederhana():\n",
        "\n",
        "    menu = input(\"Silahkan memilih menu (Menambah barang)=(1), (Melihat barang)=(2),  (Menghapus barang)=(3), (Keluar)=(4) : \")\n",
        "\n",
        "    if menu == \"1\":\n",
        "        tambah = input(\"Silahkan menambah barang : \")\n",
        "        Keranjang.append (tambah)\n",
        "        print(f\"Berhasil menambahkan barang = {Keranjang}\")\n",
        "        return aplikasi_sederhana()\n",
        "\n",
        "    elif menu == \"2\" :\n",
        "        print(f\"Daftar barang = {Keranjang}\")\n",
        "        return aplikasi_sederhana()\n",
        "\n",
        "    elif menu == \"3\" :\n",
        "        print(f\"Daftar barang = {Keranjang}\")\n",
        "        hapus = int(input(\"Masukan index barang yang mau dihapus (dimulai dari index[0]) : \"))\n",
        "        Keranjang.pop(hapus)\n",
        "        print(f\"Barang berhasil dihapus = {Keranjang}\")\n",
        "        return aplikasi_sederhana()\n",
        "\n",
        "    elif menu == \"4\":\n",
        "        exit()\n",
        "    else:\n",
        "        print(\"Tolong masukan sesuai menu\")\n",
        "        return aplikasi_sederhana()\n",
        "\n",
        "\n",
        "Keranjang = aplikasi_sederhana()\n",
        "\n"
      ]
    }
  ]
}