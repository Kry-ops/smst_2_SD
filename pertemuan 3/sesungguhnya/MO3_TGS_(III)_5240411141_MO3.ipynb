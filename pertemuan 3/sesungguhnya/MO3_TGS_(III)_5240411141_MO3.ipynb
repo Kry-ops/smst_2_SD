{
  "nbformat": 4,
  "nbformat_minor": 0,
  "metadata": {
    "colab": {
      "provenance": []
    },
    "kernelspec": {
      "name": "python3",
      "display_name": "Python 3"
    },
    "language_info": {
      "name": "python"
    }
  },
  "cells": [
    {
      "cell_type": "code",
      "execution_count": 1,
      "metadata": {
        "colab": {
          "base_uri": "https://localhost:8080/",
          "height": 274
        },
        "id": "V_nf9Goui7io",
        "outputId": "a10a5125-969f-4c2d-bf3b-e32ec9495dc2"
      },
      "outputs": [
        {
          "output_type": "stream",
          "name": "stdout",
          "text": [
            "\n",
            "semut, gajah, manusia, harimau, burung - shoot!\n",
            "pilih senjatamu [S]emut, [G]ajah, [M]anusia, [H]arimau, atau [B]urung: b\n",
            "kemu memilih: b\n",
            "Aku memilih: B\n",
            "Seri\n",
            "mau bermain lagi? (ya atau tidak): tidak\n",
            "Trimakasih telah bermain!\n"
          ]
        },
        {
          "output_type": "error",
          "ename": "SystemExit",
          "evalue": "",
          "traceback": [
            "An exception has occurred, use %tb to see the full traceback.\n",
            "\u001b[0;31mSystemExit\u001b[0m\n"
          ]
        },
        {
          "output_type": "stream",
          "name": "stderr",
          "text": [
            "/usr/local/lib/python3.11/dist-packages/IPython/core/interactiveshell.py:3561: UserWarning: To exit: use 'exit', 'quit', or Ctrl-D.\n",
            "  warn(\"To exit: use 'exit', 'quit', or Ctrl-D.\", stacklevel=1)\n"
          ]
        }
      ],
      "source": [
        "import random\n",
        "import os\n",
        "import re\n",
        "import sys\n",
        "\n",
        "def check_play_status():\n",
        "  valid_responses = ['ya', 'tidak']\n",
        "  while True:\n",
        "    try:\n",
        "      response = input('mau bermain lagi? (ya atau tidak): ')\n",
        "      if response.lower() not in valid_responses:\n",
        "        raise ValueError('hanya boleh menjawab ya atau tidak' )\n",
        "\n",
        "      if response.lower()=='ya':\n",
        "        return True\n",
        "      else:\n",
        "        os.system('cls' if os.name == 'nt' else 'clear' )\n",
        "        print('Trimakasih telah bermain!')\n",
        "        sys.exit()\n",
        "\n",
        "    except ValueError as err:\n",
        "      print(err)\n",
        "\n",
        "def play_rps():\n",
        "  play = True\n",
        "  while play:\n",
        "    os.system('cls' if os.name == 'nt' else 'clear')\n",
        "    print('')\n",
        "    print('semut, gajah, manusia, harimau, burung - shoot!')\n",
        "\n",
        "    user_choice = input('pilih senjatamu'' [S]emut, [G]ajah, [M]anusia, [H]arimau, atau [B]urung: ')\n",
        "\n",
        "    if not re.match(\"[SsGgMmHhBb]\", user_choice):\n",
        "      print('mohon memilih: ')\n",
        "      print('[S]emut, [G]ajah, [M]anusia, [H]arimau, atau [B]urung')\n",
        "      continue\n",
        "\n",
        "    print(f'kemu memilih: {user_choice}')\n",
        "\n",
        "    choices = ['S','G','M','H','B']\n",
        "    opp_choice = random.choice(choices)\n",
        "\n",
        "    print(f'Aku memilih: {opp_choice}')\n",
        "\n",
        "    if opp_choice == user_choice.upper():\n",
        "        print('Seri')\n",
        "        play = check_play_status()\n",
        "    elif opp_choice == 'M' and user_choice.upper()==\"S\":\n",
        "        print('Manusia mengalahkan Semut, aku menang!!!')\n",
        "        play = check_play_status()\n",
        "    elif opp_choice == 'M' and user_choice.upper()==\"B\":\n",
        "        print('Manusia mengalahkan Burung, aku menang!!!')\n",
        "        play = check_play_status()\n",
        "    elif opp_choice == 'G' and user_choice.upper()==\"M\":\n",
        "        print('Gajah mengalahkan Manusia, aku menang!!!')\n",
        "        play = check_play_status()\n",
        "    elif opp_choice == 'G' and user_choice.upper()==\"H\":\n",
        "        print('Gajah mengalahkan Harimau, aku menang!!!')\n",
        "        play = check_play_status()\n",
        "    elif opp_choice == 'S' and user_choice.upper()==\"G\":\n",
        "        print('Semut mengalahkan Gajah, aku menang!!!')\n",
        "        play = check_play_status()\n",
        "    elif opp_choice == 'S' and user_choice.upper()==\"H\":\n",
        "        print('Semut mengalahkan Harimau, aku menang!!!')\n",
        "        play = check_play_status()\n",
        "    elif opp_choice == 'H' and user_choice.upper()==\"M\":\n",
        "        print('Harimau mengalahkan Manusia, aku menang!!!')\n",
        "        play = check_play_status()\n",
        "    elif opp_choice == 'B' and user_choice.upper()==\"G\":\n",
        "        print('Burung mengalahkan Gajah, aku menang!!!')\n",
        "        play = check_play_status()\n",
        "    elif opp_choice == 'B' and user_choice.upper()==\"S\":\n",
        "        print('Burung mengalahkan Semut, aku menang!!!')\n",
        "        play = check_play_status()\n",
        "    elif opp_choice == 'B' and user_choice.upper()==\"H\":\n",
        "        print('Burung mengalahkan Semut, aku menang!!!')\n",
        "        play = check_play_status()\n",
        "    else:\n",
        "        print('Selamat kamu menang\\n')\n",
        "        play = check_play_status()\n",
        "\n",
        "if __name__ == '__main__':\n",
        "  play_rps()\n",
        "\n",
        "\n"
      ]
    }
  ]
}