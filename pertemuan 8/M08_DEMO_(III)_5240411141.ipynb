{
  "nbformat": 4,
  "nbformat_minor": 0,
  "metadata": {
    "colab": {
      "provenance": []
    },
    "kernelspec": {
      "name": "python3",
      "display_name": "Python 3"
    },
    "language_info": {
      "name": "python"
    }
  },
  "cells": [
    {
      "cell_type": "markdown",
      "source": [
        "stack pop"
      ],
      "metadata": {
        "id": "-jKQ7t7h3B07"
      }
    },
    {
      "cell_type": "code",
      "execution_count": null,
      "metadata": {
        "colab": {
          "base_uri": "https://localhost:8080/"
        },
        "id": "Yg354PkQ0cLs",
        "outputId": "5f8b7d02-9b3a-4d6c-f6f7-1ce535e8aab6"
      },
      "outputs": [
        {
          "output_type": "stream",
          "name": "stdout",
          "text": [
            "before pop:\n",
            "1\n",
            "2\n",
            "3\n",
            "4\n",
            "\n",
            " popped node\n",
            "1\n",
            "\n",
            " after pop\n",
            "2\n",
            "3\n",
            "4\n"
          ]
        }
      ],
      "source": [
        "class Node:\n",
        "    def __init__(self, value):\n",
        "        self.value = value\n",
        "        self.next = None\n",
        "class stack:\n",
        "    def __init__(self, value):\n",
        "        new_node = Node(value)\n",
        "        self.top = new_node\n",
        "        self.height = 1\n",
        "\n",
        "    def print_stack(self):\n",
        "        temp = self.top\n",
        "        while temp is not None:\n",
        "            print(temp.value)\n",
        "            temp = temp.next\n",
        "\n",
        "    def push(self, value):\n",
        "        new_node = Node(value)\n",
        "        if self.height == 0:\n",
        "            self.top = new_node\n",
        "        else:\n",
        "            new_node.next = self.top\n",
        "            self.top = new_node\n",
        "        self.height += 1\n",
        "        return True\n",
        "\n",
        "    def pop(self):\n",
        "        if self.height == 0:\n",
        "            return None\n",
        "        temp = self.top\n",
        "        self.top = self.top.next\n",
        "        temp.next =  None\n",
        "        self.height -= 1\n",
        "        return temp\n",
        "\n",
        "my_stack = stack(4)\n",
        "my_stack.push(3)\n",
        "my_stack.push(2)\n",
        "my_stack.push(1)\n",
        "\n",
        "print(\"before pop:\")\n",
        "my_stack.print_stack()\n",
        "\n",
        "print('\\n popped node')\n",
        "print(my_stack.pop().value)\n",
        "\n",
        "print('\\n after pop')\n",
        "my_stack.print_stack()"
      ]
    },
    {
      "cell_type": "markdown",
      "source": [
        "queue dequeue"
      ],
      "metadata": {
        "id": "rlC_L-jC3GKr"
      }
    },
    {
      "cell_type": "code",
      "source": [
        "class Node:\n",
        "    def __init__(self, value):\n",
        "        self.value = value\n",
        "        self.next = None\n",
        "\n",
        "class queue:\n",
        "    def __init__(self, value):\n",
        "        new_node = Node(value)\n",
        "        self.first = new_node\n",
        "        self.last = new_node\n",
        "        self.length = 1\n",
        "\n",
        "    def print_queue(self):\n",
        "        temp = self.first\n",
        "        while temp is not None:\n",
        "            print(temp.value)\n",
        "            temp = temp.next\n",
        "\n",
        "    def enqueue(self, value):\n",
        "        new_node = Node(value)\n",
        "        if self.first is None:\n",
        "            self.first = new_node\n",
        "            self.last = new_node\n",
        "        else:\n",
        "            self.last.next = new_node\n",
        "            self.last = new_node\n",
        "        self.length += 1\n",
        "        return True\n",
        "\n",
        "    def dequeue(self):\n",
        "        if self.length == 0:\n",
        "            return None\n",
        "        temp = self.first\n",
        "        if self.length == 1:\n",
        "            self.first = None\n",
        "            self.last = None\n",
        "        else:\n",
        "            self.first = self.first.next\n",
        "            temp.next = None\n",
        "        self.length -= 1\n",
        "        return temp\n",
        "\n",
        "my_queue = queue(1)\n",
        "my_queue.enqueue(2)\n",
        "\n",
        "print(my_queue.dequeue().value)\n",
        "print(my_queue.dequeue().value)\n",
        "print(my_queue.dequeue())"
      ],
      "metadata": {
        "colab": {
          "base_uri": "https://localhost:8080/"
        },
        "id": "oRKBNqPH3Jqn",
        "outputId": "fa46a7ad-be88-46fd-ebe6-2d2b442429f6"
      },
      "execution_count": null,
      "outputs": [
        {
          "output_type": "stream",
          "name": "stdout",
          "text": [
            "1\n",
            "2\n",
            "None\n"
          ]
        }
      ]
    }
  ]
}