{
  "nbformat": 4,
  "nbformat_minor": 0,
  "metadata": {
    "colab": {
      "provenance": []
    },
    "kernelspec": {
      "name": "python3",
      "display_name": "Python 3"
    },
    "language_info": {
      "name": "python"
    }
  },
  "cells": [
    {
      "cell_type": "code",
      "execution_count": 2,
      "metadata": {
        "colab": {
          "base_uri": "https://localhost:8080/"
        },
        "id": "kVqErGCpk60E",
        "outputId": "36641b9b-d9ef-4709-87b9-4e4444b6859d"
      },
      "outputs": [
        {
          "output_type": "stream",
          "name": "stdout",
          "text": [
            "awal:\n",
            "1\n",
            "2\n",
            "3\n",
            "4\n",
            "5\n",
            "\n",
            " menghapus index ke 1 dan 3:\n",
            "3\n",
            "5\n",
            "\n",
            " hasil:\n",
            "1\n",
            "2\n",
            "4\n"
          ]
        }
      ],
      "source": [
        "class Node:\n",
        "    def __init__(self, value):\n",
        "        self.value = value\n",
        "        self.next = None\n",
        "\n",
        "class queue:\n",
        "    def __init__(self, value):\n",
        "        new_node = Node(value)\n",
        "        self.first = new_node\n",
        "        self.last = new_node\n",
        "        self.length = 1\n",
        "\n",
        "    def print_queue(self):\n",
        "        temp = self.first\n",
        "        while temp is not None:\n",
        "            print(temp.value)\n",
        "            temp = temp.next\n",
        "\n",
        "    def enqueue(self, value):\n",
        "        new_node = Node(value)\n",
        "        if self.first is None:\n",
        "            self.first = new_node\n",
        "            self.last = new_node\n",
        "        else:\n",
        "            self.last.next = new_node\n",
        "            self.last = new_node\n",
        "        self.length += 1\n",
        "        return True\n",
        "\n",
        "    def dequeue(self):\n",
        "        if self.length == 0:\n",
        "            return None\n",
        "        temp = self.first\n",
        "        if self.length == 1:\n",
        "            self.first = None\n",
        "            self.last = None\n",
        "        else:\n",
        "            self.first = self.first.next\n",
        "            temp.next = None\n",
        "        self.length -= 1\n",
        "        return temp\n",
        "\n",
        "\n",
        "    def desperation(self, index):\n",
        "        if index <= 0 or index > self.length:\n",
        "            return None\n",
        "        temp = self.length - index\n",
        "        if temp == 0:\n",
        "            return self.dequeue()\n",
        "        prev = self.first\n",
        "        for _ in range(temp - 1):\n",
        "            prev = prev.next\n",
        "        removed = prev.next\n",
        "        prev.next = removed.next\n",
        "        if removed == self.last:\n",
        "            self.last = prev\n",
        "        removed.next = None\n",
        "        self.length -= 1\n",
        "        return removed\n",
        "\n",
        "\n",
        "print('awal:')\n",
        "my_queue = queue(1)\n",
        "my_queue.enqueue(2)\n",
        "my_queue.enqueue(3)\n",
        "my_queue.enqueue(4)\n",
        "my_queue.enqueue(5)\n",
        "my_queue.print_queue()\n",
        "\n",
        "print('\\n menghapus index ke 1 dan 3:')\n",
        "print(my_queue.desperation(3).value)\n",
        "print(my_queue.desperation(1).value)\n",
        "\n",
        "\n",
        "print('\\n hasil:')\n",
        "my_queue.print_queue()"
      ]
    }
  ]
}