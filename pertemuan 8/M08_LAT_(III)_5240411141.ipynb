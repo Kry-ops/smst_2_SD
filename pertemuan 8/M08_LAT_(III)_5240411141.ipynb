{
  "nbformat": 4,
  "nbformat_minor": 0,
  "metadata": {
    "colab": {
      "provenance": []
    },
    "kernelspec": {
      "name": "python3",
      "display_name": "Python 3"
    },
    "language_info": {
      "name": "python"
    }
  },
  "cells": [
    {
      "cell_type": "code",
      "execution_count": 2,
      "metadata": {
        "id": "sYjFomwB5Q1V",
        "colab": {
          "base_uri": "https://localhost:8080/"
        },
        "outputId": "a45386ec-1dca-4021-da28-ffe14129ad20"
      },
      "outputs": [
        {
          "output_type": "stream",
          "name": "stdout",
          "text": [
            "before pop:\n",
            "1\n",
            "2\n",
            "3\n",
            "4\n",
            "\n",
            " popped node\n",
            "1\n",
            "\n",
            " after pop\n",
            "2\n",
            "3\n",
            "4\n",
            "\n",
            " tes sisip\n",
            "2\n",
            "3\n",
            "10\n",
            "4\n"
          ]
        }
      ],
      "source": [
        "class Node:\n",
        "    def __init__(self, value):\n",
        "        self.value = value\n",
        "        self.next = None\n",
        "class stack:\n",
        "    def __init__(self, value):\n",
        "        new_node = Node(value)\n",
        "        self.top = new_node\n",
        "        self.height = 1\n",
        "\n",
        "    def print_stack(self):\n",
        "        temp = self.top\n",
        "        while temp is not None:\n",
        "            print(temp.value)\n",
        "            temp = temp.next\n",
        "\n",
        "    def push(self, value):\n",
        "        new_node = Node(value)\n",
        "        if self.height == 0:\n",
        "            self.top = new_node\n",
        "        else:\n",
        "            new_node.next = self.top\n",
        "            self.top = new_node\n",
        "        self.height += 1\n",
        "        return True\n",
        "\n",
        "    def pop(self):\n",
        "        if self.height == 0:\n",
        "            return None\n",
        "        temp = self.top\n",
        "        self.top = self.top.next\n",
        "        temp.next =  None\n",
        "        self.height -= 1\n",
        "        return temp\n",
        "    def sisip_stack(self, i, value):\n",
        "        if i < 0 or i > self.height:\n",
        "            return False\n",
        "        pos_from_top = self.height - i\n",
        "        new_node = Node(value)\n",
        "        if pos_from_top == 0:\n",
        "            new_node.next = self.top\n",
        "            self.top = new_node\n",
        "        else:\n",
        "            prev = self.top\n",
        "            for _ in range(pos_from_top - 1):\n",
        "                prev = prev.next\n",
        "            new_node.next = prev.next\n",
        "            prev.next = new_node\n",
        "        self.height += 1\n",
        "        return True\n",
        "\n",
        "\n",
        "my_stack = stack(4)\n",
        "my_stack.push(3)\n",
        "my_stack.push(2)\n",
        "my_stack.push(1)\n",
        "\n",
        "print(\"before pop:\")\n",
        "my_stack.print_stack()\n",
        "\n",
        "print('\\n popped node')\n",
        "print(my_stack.pop().value)\n",
        "\n",
        "print('\\n after pop')\n",
        "my_stack.print_stack()\n",
        "\n",
        "print('\\n tes sisip')\n",
        "my_stack.sisip_stack(1,10)\n",
        "my_stack.print_stack()"
      ]
    }
  ]
}