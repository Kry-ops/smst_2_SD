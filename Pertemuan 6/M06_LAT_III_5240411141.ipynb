{
  "nbformat": 4,
  "nbformat_minor": 0,
  "metadata": {
    "colab": {
      "provenance": []
    },
    "kernelspec": {
      "name": "python3",
      "display_name": "Python 3"
    },
    "language_info": {
      "name": "python"
    }
  },
  "cells": [
    {
      "cell_type": "code",
      "source": [
        "class Node:\n",
        "    def __init__(self, value):\n",
        "        self.value = value\n",
        "        self.next = None\n",
        "\n",
        "class LinkedList:\n",
        "    def __init__(self, value):\n",
        "        new_node = Node(value)\n",
        "        self.head = new_node\n",
        "        self.tail = new_node\n",
        "        self.length = 1\n",
        "\n",
        "    def print_list(self):\n",
        "        temp = self.head\n",
        "        while temp is not None:\n",
        "            print(temp.value)\n",
        "            temp = temp.next\n",
        "\n",
        "    def append(self, value):\n",
        "        new_node = Node(value)\n",
        "        if self.length == 0:\n",
        "            self.head = new_node\n",
        "            self.tail = new_node\n",
        "        else:\n",
        "            self.tail.next = new_node\n",
        "            self.tail = new_node\n",
        "        self.length += 1\n",
        "        return True\n",
        "\n",
        "    def prepend(self, value):\n",
        "        new_node = Node(value)\n",
        "        if self.length == 0 :\n",
        "            self.head = new_node\n",
        "            self.tail = new_node\n",
        "        else:\n",
        "            new_node.next = self.head\n",
        "            self.head = new_node\n",
        "        self.length += 1\n",
        "        return True\n",
        "\n",
        "    def get(self, index):\n",
        "        if index < 0 or index >= self.length:\n",
        "            return None\n",
        "        temp = self.head\n",
        "        for _ in range(index):\n",
        "            temp = temp.next\n",
        "        return temp\n",
        "\n",
        "    def set_value(self, index, value):\n",
        "        temp = self.get(index)\n",
        "        if temp:\n",
        "            temp.value = value\n",
        "            return True\n",
        "        return False\n",
        "\n",
        "    def insert(self, index, value):\n",
        "        if index < 0 or index > self.length:\n",
        "            return False\n",
        "        if index == 0:\n",
        "            return self.prepend(value)\n",
        "        if index == self.length:\n",
        "            return self.append(value)\n",
        "        new_node = Node(value)\n",
        "        temp = self.get(index - 1)\n",
        "        new_node.next = temp.next\n",
        "        temp.next = new_node\n",
        "        self.length += 1\n",
        "        return True\n",
        "\n",
        "\n",
        "print(\"<------------------------>\")\n",
        "my_linked_list = LinkedList(\"saya\")\n",
        "my_linked_list.append(\"adalah\")\n",
        "my_linked_list.insert(2, \"Gervaldo lay\")\n",
        "my_linked_list.prepend(\"nama\")\n",
        "my_linked_list.print_list()\n",
        "\n",
        "print(\"<------------------------>\")\n",
        "print(\"Mengubah data Gervaldo lay\")\n",
        "my_linked_list.set_value(3, \"Naruto uzumaki\")\n",
        "my_linked_list.print_list()"
      ],
      "metadata": {
        "id": "w2HQiYJJivHO",
        "colab": {
          "base_uri": "https://localhost:8080/"
        },
        "outputId": "d5ae999f-d4a7-447e-9f23-c9c9384e0259"
      },
      "execution_count": 19,
      "outputs": [
        {
          "output_type": "stream",
          "name": "stdout",
          "text": [
            "<------------------------>\n",
            "nama\n",
            "saya\n",
            "adalah\n",
            "Gervaldo lay\n",
            "<------------------------>\n",
            "Mengubah data Gervaldo lay\n",
            "nama\n",
            "saya\n",
            "adalah\n",
            "Naruto uzumaki\n"
          ]
        }
      ]
    }
  ]
}