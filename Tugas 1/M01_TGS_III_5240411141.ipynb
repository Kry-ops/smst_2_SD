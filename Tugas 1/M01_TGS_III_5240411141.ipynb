{
 "cells": [
  {
   "cell_type": "code",
   "execution_count": null,
   "metadata": {},
   "outputs": [],
   "source": [
    "nama = str(input(\"Masukan nama lengkap : \"))\n",
    "\n",
    "from datetime import datetime\n",
    "\n",
    "tanggal = int(input(\"Masukkan tanggal lahir : \"))\n",
    "bulan = int(input(\"Masukkan bulan lahir : \"))\n",
    "tahun = int(input(\"Masukkan tahun lahir : \"))\n",
    "\n",
    "tanggal_lahir = datetime(tahun, bulan, tanggal)\n",
    "hari_ini = datetime(2025, 2, 12)\n",
    "usia = (hari_ini - tanggal_lahir)\n",
    "usia_dalam_tahun = (usia.days)//365\n",
    "\n",
    "print(f\"Hai, {nama}! pada hari ini Rabu 12 Februari 2025 Anda berumur {usia_dalam_tahun} tahun. Selamat belajar Struktur Data\")"
   ]
  },
  {
   "cell_type": "code",
   "execution_count": null,
   "metadata": {},
   "outputs": [],
   "source": [
    "angka1 = int(input(\"Masukan angka 1 = \"))\n",
    "angka2 = int(input(\"Masukan angka 2 = \"))\n",
    "\n",
    "penjumlahan = angka1 + angka2\n",
    "pengurangan = angka1 - angka2\n",
    "perkalian = angka1 * angka2\n",
    "pembagianA = angka1 // angka2\n",
    "pembagianB = angka1/angka2\n",
    "sisa_pembagian = angka1%angka2\n",
    "\n",
    "if sisa_pembagian !=0 :\n",
    "    print(f\"penjumlahan {angka1}+{angka2}={penjumlahan}\")\n",
    "    print(f\"pengurangan {angka1}-{angka2}={pengurangan}\")\n",
    "    print(f\"perkalian {angka1}*{angka2}={perkalian}\")\n",
    "    print(f\"pembagian {angka1}/{angka2}={pembagianB}\")\n",
    "    print(f\"dengan sisa pembagian = {sisa_pembagian}\")\n",
    "else:\n",
    "    print(f\"penjumlahan {angka1}+{angka2}={penjumlahan}\")\n",
    "    print(f\"pengurangan {angka1}-{angka2}={pengurangan}\")\n",
    "    print(f\"perkalian {angka1}*{angka2}={perkalian}\")\n",
    "    print(f\"pembagian {angka1}//{angka2}={pembagianA}\")\n"
   ]
  }
 ],
 "metadata": {
  "kernelspec": {
   "display_name": "Python 3",
   "language": "python",
   "name": "python3"
  },
  "language_info": {
   "codemirror_mode": {
    "name": "ipython",
    "version": 3
   },
   "file_extension": ".py",
   "mimetype": "text/x-python",
   "name": "python",
   "nbconvert_exporter": "python",
   "pygments_lexer": "ipython3",
   "version": "3.12.6"
  }
 },
 "nbformat": 4,
 "nbformat_minor": 2
}
